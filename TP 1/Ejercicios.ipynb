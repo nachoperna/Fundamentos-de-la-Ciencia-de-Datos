{
 "cells": [
  {
   "cell_type": "markdown",
   "metadata": {},
   "source": [
    "# Ejercicio 1\n",
    "\n",
    "Escribir un programa que pida al usuario su nombre y lo salude. Pista: van a\n",
    "necesitar la función input()."
   ]
  },
  {
   "cell_type": "code",
   "execution_count": null,
   "metadata": {},
   "outputs": [],
   "source": [
    "nombre_usuario = input(\"Introduzca su nombre: \")\n",
    "\n",
    "print(\"Hola \"+ nombre_usuario + \"!\")"
   ]
  },
  {
   "cell_type": "markdown",
   "metadata": {},
   "source": [
    "# Ejercicio 2\n",
    "\n",
    "Crear una función que devuelva la suma de dos números."
   ]
  },
  {
   "cell_type": "code",
   "execution_count": null,
   "metadata": {},
   "outputs": [],
   "source": [
    "import numpy\n",
    "\n",
    "num1 = int(input(\"- Numero 1: \"))\n",
    "num2 = int(input(\"- Numero 2: \"))\n",
    "\n",
    "def suma(num1, num2):\n",
    "    return num1 + num2\n",
    "\n",
    "resultado = suma(num1, num2)\n",
    "\n",
    "print(\"La suma de \" + str(num1) + \" y \" + str(num2) + \" es: \" + str(resultado))"
   ]
  },
  {
   "cell_type": "markdown",
   "metadata": {},
   "source": [
    "# Ejercicio 3\n",
    "\n",
    "Escribir un programa que calcule el área de un círculo dado su radio."
   ]
  },
  {
   "cell_type": "code",
   "execution_count": null,
   "metadata": {},
   "outputs": [],
   "source": [
    "import numpy\n",
    "\n",
    "radio = int(input(\"Introduzca el radio del circulo: \"))\n",
    "\n",
    "def area(radio):\n",
    "    return numpy.pi * pow(radio, 2)\n",
    "\n",
    "resultado = area(radio)\n",
    "\n",
    "print(\"El area del circulo es: \", resultado)"
   ]
  },
  {
   "cell_type": "markdown",
   "metadata": {},
   "source": [
    "# Ejercicio 4\n",
    "\n",
    "Crear una lista de 5 frutas y escribir un bucle que las imprima una por una."
   ]
  },
  {
   "cell_type": "code",
   "execution_count": null,
   "metadata": {},
   "outputs": [],
   "source": [
    "frutas = {}\n",
    "\n",
    "def inic(frutas):\n",
    "    for i in range (5):\n",
    "        frutas[i] = input(\"Fruta \" + str((i+1)) + \": \")\n",
    "\n",
    "inic(frutas)\n",
    "\n",
    "def show(frutas):\n",
    "    for i in range(5):\n",
    "        print(\"Fruta \" + str((i+1)) + \": \" + frutas[i])\n",
    "\n",
    "print(\"--------------\")\n",
    "show(frutas)"
   ]
  },
  {
   "cell_type": "markdown",
   "metadata": {},
   "source": [
    "# Ejercicio 5\n",
    "\n",
    "Escribir una función que determine si un número es par o impar."
   ]
  },
  {
   "cell_type": "code",
   "execution_count": null,
   "metadata": {},
   "outputs": [],
   "source": [
    "num = int(input(\"Numero: \"))\n",
    "\n",
    "def es_par(num):\n",
    "    return num%2 == 0\n",
    "\n",
    "if (es_par(num)):\n",
    "    resultado = \"PAR\"\n",
    "else:\n",
    "    resultado = \"IMPAR\"\n",
    "\n",
    "print(\"El numero es \" + resultado)"
   ]
  },
  {
   "cell_type": "markdown",
   "metadata": {},
   "source": [
    "# Ejercicio 6\n",
    "\n",
    "Crear un diccionario con nombres de estudiantes y sus notas. Imprimir el promedio\n",
    "de esas notas."
   ]
  },
  {
   "cell_type": "code",
   "execution_count": null,
   "metadata": {},
   "outputs": [],
   "source": [
    "diccionario = []\n",
    "\n",
    "def carga_dic(diccionario, alumno):\n",
    "    diccionario.append(alumno)\n",
    "\n",
    "def carga_alumno():\n",
    "    nombre = input(\"Nombre del alumno: \")\n",
    "    nota = int(input(\"Nota del alumno: \"))\n",
    "    return (nombre,nota) #se puede simplificar en una sola linea\n",
    "\n",
    "def promedio(diccionario):\n",
    "    suma = 0\n",
    "    for alumno in diccionario:\n",
    "        suma += alumno[1]\n",
    "    return suma/len(diccionario)\n",
    "\n",
    "def buscar(diccionario, buscado):\n",
    "    for alumno in diccionario:\n",
    "        if (buscado in alumno):\n",
    "            return alumno\n",
    "    return False\n",
    "\n",
    "def menu(diccionario):\n",
    "    opcion = 0\n",
    "    while (opcion != 4):\n",
    "        print(\"\\n\")\n",
    "        print(\"1. Cargar alumno.\")\n",
    "        print(\"2. Buscar alumno.\")\n",
    "        print(\"3. Ver promedio de notas.\")\n",
    "        print(\"4. Salir.\")\n",
    "        opcion = int(input(\"- Opcion: \"))\n",
    "\n",
    "        if (opcion == 1):\n",
    "            carga_dic(diccionario, carga_alumno())\n",
    "\n",
    "        elif(opcion == 2):\n",
    "            nombre = input(\"\\nNombre del alumno a buscar: \")\n",
    "            alum = buscar(diccionario, nombre)\n",
    "            if alum != False:\n",
    "                print(\"\\n- Alumno: \" + alum[0] + \" / Nota: \" + str(alum[1]) + \" -\")\n",
    "            else:\n",
    "                print(\"\\n- Alumno no encontrado. -\")\n",
    "                \n",
    "        elif(opcion == 3):\n",
    "            print(\"\\n- El promedio de las notas es: \" + str(promedio(diccionario)) + \" -\")\n",
    "\n",
    "menu(diccionario)"
   ]
  },
  {
   "cell_type": "markdown",
   "metadata": {},
   "source": [
    "# Ejercicio 7\n",
    "\n",
    "Escribir un programa que genere una lista de los primeros 20 números de la\n",
    "secuencia de Fibonacci."
   ]
  },
  {
   "cell_type": "code",
   "execution_count": null,
   "metadata": {},
   "outputs": [],
   "source": [
    "fib = [1,1]\n",
    "\n",
    "\n",
    "def show(fib):\n",
    "    print(\"Secuencia: \")\n",
    "    for i in fib:\n",
    "        print(f\"{i}\")\n",
    "\n",
    "def fibonacci(fib):\n",
    "    n = len(fib)\n",
    "    while (n < 20):\n",
    "        fib.append(fib[n-1] + fib[n-2])\n",
    "        n += 1\n",
    "    show(fib)\n",
    "\n",
    "fibonacci(fib)"
   ]
  },
  {
   "cell_type": "markdown",
   "metadata": {},
   "source": [
    "# Ejercicio 8\n",
    "\n",
    "Crear una función que reciba una cadena y devuelva True si es un palíndromo.\n",
    "Recordar que un palíndromo es aquella palabra que, espejada, se sigue leyendo\n",
    "igual (por ejemplo, neuquen)."
   ]
  },
  {
   "cell_type": "code",
   "execution_count": null,
   "metadata": {},
   "outputs": [],
   "source": [
    "def palindromo(pal):\n",
    "    i = 0\n",
    "    j = len(pal) - 1\n",
    "    while (i != j):\n",
    "        if (pal[i] == pal[j]):\n",
    "            i+=1\n",
    "            j-=1\n",
    "        else:\n",
    "            return False\n",
    "    return True\n",
    "\n",
    "def menu():\n",
    "    opcion = 0\n",
    "    while opcion != 2:\n",
    "        print(\"\\n1. Palindromear \\n2. Salir\")\n",
    "        opcion = int(input(\"- Opcion: \"))\n",
    "        \n",
    "        if opcion == 1:\n",
    "            palabra = input(\"\\n- Palabra: \")\n",
    "            print(palindromo(palabra))\n",
    "\n",
    "menu()"
   ]
  },
  {
   "cell_type": "markdown",
   "metadata": {},
   "source": [
    "# Ejercicio 9\n",
    "\n",
    "Crear una clase Rectángulo con atributos de ancho y alto, y métodos para calcular\n",
    "su área y perímetro."
   ]
  },
  {
   "cell_type": "code",
   "execution_count": null,
   "metadata": {},
   "outputs": [],
   "source": [
    "class Rectangulo:\n",
    "\n",
    "    def __init__(self, x, y) -> None:\n",
    "        self.ancho = x\n",
    "        self.alto = y\n",
    "    \n",
    "    def area(self):\n",
    "        return self.ancho * self.alto\n",
    "    \n",
    "    def perimetero(self):\n",
    "        return (self.ancho + self.alto) * 2\n",
    "    \n",
    "    def __str__(self) -> str:\n",
    "        return f\"\\n-Alto: {self.alto} \\n-Ancho: {self.ancho} \\n-Area: {self.area()} \\n-Perimetro: {self.perimetero()}\"\n",
    "    \n",
    "r = Rectangulo(int(input(\"- Ancho: \")), int(input(\"- Alto: \")))\n",
    "\n",
    "print(r)"
   ]
  },
  {
   "cell_type": "markdown",
   "metadata": {},
   "source": [
    "# Ejercicio 10\n",
    "\n",
    "Crear una clase Cuadrado que herede de Rectángulo y devuelva las mismas\n",
    "propiedades."
   ]
  },
  {
   "cell_type": "code",
   "execution_count": null,
   "metadata": {},
   "outputs": [],
   "source": [
    "#from ej9 import Rectangulo\n",
    "\n",
    "class Cuadrado(Rectangulo):\n",
    "    pass\n",
    "\n",
    "c = Cuadrado(int(input(\"- Ancho: \")), int(input(\"- Alto: \")))\n",
    "\n",
    "print(c)\n",
    "\n",
    "# Si se crea un objeto Cuadrado pide 2 veces los datos"
   ]
  }
 ],
 "metadata": {
  "kernelspec": {
   "display_name": "Practico1",
   "language": "python",
   "name": "python3"
  },
  "language_info": {
   "codemirror_mode": {
    "name": "ipython",
    "version": 3
   },
   "file_extension": ".py",
   "mimetype": "text/x-python",
   "name": "python",
   "nbconvert_exporter": "python",
   "pygments_lexer": "ipython3",
   "version": "3.10.12"
  }
 },
 "nbformat": 4,
 "nbformat_minor": 2
}
